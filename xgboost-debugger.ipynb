{
 "cells": [
  {
   "cell_type": "markdown",
   "metadata": {},
   "source": [
    "# Debugging XGBoost Training Jobs with Amazon SageMaker Debugger Using Rules\n",
    "\n",
    "This notebook was created and tested on an ml.m5.4xlarge notebook instance.\n",
    "\n",
    "## Overview\n",
    "\n",
    "Amazon SageMaker Debugger is a new capability of Amazon SageMaker that allows debugging machine learning training. \n",
    "Amazon SageMaker Debugger helps you to monitor your training in near real time using rules and would provide you alerts, once it has detected inconsistency in training. \n",
    "\n",
    "### Saving tensors - HOOK\n",
    "\n",
    "In deep learning algorithms, tensors define the state of the training job at any particular instant in its lifecycle.\n",
    "Amazon SageMaker Debugger exposes a library which allows you to capture these tensors and save them for analysis.\n",
    "Although XGBoost is not a deep learning algorithm, Amazon SageMaker Debugger is highly customizable and can help provide interpretability by saving insightful metrics, such as performance metrics or feature importances, at different frequencies.\n",
    "\n",
    "\n",
    "### Analysis - RULES\n",
    "\n",
    "After the tensors are saved, perform automatic analysis by running debugging ***Rules***.\n",
    "On a very broad level, a rule is Python code used to detect certain conditions during training.\n",
    "Some of the conditions that a data scientist training an algorithm may care about are monitoring for gradients getting too large or too small, detecting overfitting, and so on.\n",
    "Amazon SageMaker Debugger comes pre-packaged with certain rules that can be invoked on Amazon SageMaker. Users can also write their own rules using the Amazon SageMaker Debugger APIs. "
   ]
  },
  {
   "cell_type": "code",
   "execution_count": 6,
   "metadata": {},
   "outputs": [],
   "source": [
    "import boto3\n",
    "import sagemaker\n",
    "\n",
    "from sagemaker.amazon.amazon_estimator import get_image_uri\n",
    "sagemaker_session = sagemaker.Session()\n",
    "bucket = sagemaker.Session().default_bucket()\n",
    "prefix = 'fraud-DEBUG'\n",
    "\n",
    "# Below changes the Region to be one where this notebook is running\n",
    "region = boto3.Session().region_name\n",
    "\n",
    "container = get_image_uri(region, \"xgboost\", repo_version=\"0.90-2\")"
   ]
  },
  {
   "cell_type": "code",
   "execution_count": 2,
   "metadata": {},
   "outputs": [],
   "source": [
    "local_data_path = \"./creditcardcsvpresent.csv\""
   ]
  },
  {
   "cell_type": "code",
   "execution_count": 34,
   "metadata": {},
   "outputs": [
    {
     "data": {
      "text/html": [
       "<div>\n",
       "<style scoped>\n",
       "    .dataframe tbody tr th:only-of-type {\n",
       "        vertical-align: middle;\n",
       "    }\n",
       "\n",
       "    .dataframe tbody tr th {\n",
       "        vertical-align: top;\n",
       "    }\n",
       "\n",
       "    .dataframe thead th {\n",
       "        text-align: right;\n",
       "    }\n",
       "</style>\n",
       "<table border=\"1\" class=\"dataframe\">\n",
       "  <thead>\n",
       "    <tr style=\"text-align: right;\">\n",
       "      <th></th>\n",
       "      <th>Merchant_id</th>\n",
       "      <th>Transaction date</th>\n",
       "      <th>Average Amount/transaction/day</th>\n",
       "      <th>Transaction_amount</th>\n",
       "      <th>Is declined</th>\n",
       "      <th>Total Number of declines/day</th>\n",
       "      <th>isForeignTransaction</th>\n",
       "      <th>isHighRiskCountry</th>\n",
       "      <th>Daily_chargeback_avg_amt</th>\n",
       "      <th>6_month_avg_chbk_amt</th>\n",
       "      <th>6-month_chbk_freq</th>\n",
       "      <th>isFradulent</th>\n",
       "    </tr>\n",
       "  </thead>\n",
       "  <tbody>\n",
       "    <tr>\n",
       "      <th>0</th>\n",
       "      <td>3160040998</td>\n",
       "      <td>NaN</td>\n",
       "      <td>100.0</td>\n",
       "      <td>3000.0</td>\n",
       "      <td>N</td>\n",
       "      <td>5</td>\n",
       "      <td>Y</td>\n",
       "      <td>Y</td>\n",
       "      <td>0</td>\n",
       "      <td>0.0</td>\n",
       "      <td>0</td>\n",
       "      <td>Y</td>\n",
       "    </tr>\n",
       "    <tr>\n",
       "      <th>1</th>\n",
       "      <td>3160040998</td>\n",
       "      <td>NaN</td>\n",
       "      <td>100.0</td>\n",
       "      <td>4300.0</td>\n",
       "      <td>N</td>\n",
       "      <td>5</td>\n",
       "      <td>Y</td>\n",
       "      <td>Y</td>\n",
       "      <td>0</td>\n",
       "      <td>0.0</td>\n",
       "      <td>0</td>\n",
       "      <td>Y</td>\n",
       "    </tr>\n",
       "    <tr>\n",
       "      <th>2</th>\n",
       "      <td>3160041896</td>\n",
       "      <td>NaN</td>\n",
       "      <td>185.5</td>\n",
       "      <td>4823.0</td>\n",
       "      <td>Y</td>\n",
       "      <td>5</td>\n",
       "      <td>N</td>\n",
       "      <td>N</td>\n",
       "      <td>0</td>\n",
       "      <td>0.0</td>\n",
       "      <td>0</td>\n",
       "      <td>Y</td>\n",
       "    </tr>\n",
       "    <tr>\n",
       "      <th>3</th>\n",
       "      <td>3160141996</td>\n",
       "      <td>NaN</td>\n",
       "      <td>185.5</td>\n",
       "      <td>5008.5</td>\n",
       "      <td>Y</td>\n",
       "      <td>8</td>\n",
       "      <td>N</td>\n",
       "      <td>N</td>\n",
       "      <td>0</td>\n",
       "      <td>0.0</td>\n",
       "      <td>0</td>\n",
       "      <td>Y</td>\n",
       "    </tr>\n",
       "    <tr>\n",
       "      <th>4</th>\n",
       "      <td>3160241992</td>\n",
       "      <td>NaN</td>\n",
       "      <td>500.0</td>\n",
       "      <td>26000.0</td>\n",
       "      <td>N</td>\n",
       "      <td>0</td>\n",
       "      <td>Y</td>\n",
       "      <td>Y</td>\n",
       "      <td>800</td>\n",
       "      <td>677.2</td>\n",
       "      <td>6</td>\n",
       "      <td>Y</td>\n",
       "    </tr>\n",
       "  </tbody>\n",
       "</table>\n",
       "</div>"
      ],
      "text/plain": [
       "   Merchant_id  Transaction date  Average Amount/transaction/day  \\\n",
       "0   3160040998               NaN                           100.0   \n",
       "1   3160040998               NaN                           100.0   \n",
       "2   3160041896               NaN                           185.5   \n",
       "3   3160141996               NaN                           185.5   \n",
       "4   3160241992               NaN                           500.0   \n",
       "\n",
       "   Transaction_amount Is declined  Total Number of declines/day  \\\n",
       "0              3000.0           N                             5   \n",
       "1              4300.0           N                             5   \n",
       "2              4823.0           Y                             5   \n",
       "3              5008.5           Y                             8   \n",
       "4             26000.0           N                             0   \n",
       "\n",
       "  isForeignTransaction isHighRiskCountry  Daily_chargeback_avg_amt  \\\n",
       "0                    Y                 Y                         0   \n",
       "1                    Y                 Y                         0   \n",
       "2                    N                 N                         0   \n",
       "3                    N                 N                         0   \n",
       "4                    Y                 Y                       800   \n",
       "\n",
       "   6_month_avg_chbk_amt  6-month_chbk_freq isFradulent  \n",
       "0                   0.0                  0           Y  \n",
       "1                   0.0                  0           Y  \n",
       "2                   0.0                  0           Y  \n",
       "3                   0.0                  0           Y  \n",
       "4                 677.2                  6           Y  "
      ]
     },
     "execution_count": 34,
     "metadata": {},
     "output_type": "execute_result"
    }
   ],
   "source": [
    "import pandas as pd\n",
    "\n",
    "data = pd.read_csv(local_data_path, sep=',')\n",
    "pd.set_option('display.max_columns', 500)     # Make sure we can see all of the columns\n",
    "pd.set_option('display.max_rows', 10)         # Keep the output on one page\n",
    "data.head()"
   ]
  },
  {
   "cell_type": "code",
   "execution_count": 35,
   "metadata": {},
   "outputs": [
    {
     "data": {
      "text/plain": [
       "N    2627\n",
       "Y     448\n",
       "Name: isFradulent, dtype: int64"
      ]
     },
     "execution_count": 35,
     "metadata": {},
     "output_type": "execute_result"
    }
   ],
   "source": [
    "data.isFradulent.value_counts()"
   ]
  },
  {
   "cell_type": "markdown",
   "metadata": {},
   "source": [
    "### PreProcessing"
   ]
  },
  {
   "cell_type": "code",
   "execution_count": 36,
   "metadata": {},
   "outputs": [
    {
     "data": {
      "text/html": [
       "<div>\n",
       "<style scoped>\n",
       "    .dataframe tbody tr th:only-of-type {\n",
       "        vertical-align: middle;\n",
       "    }\n",
       "\n",
       "    .dataframe tbody tr th {\n",
       "        vertical-align: top;\n",
       "    }\n",
       "\n",
       "    .dataframe thead th {\n",
       "        text-align: right;\n",
       "    }\n",
       "</style>\n",
       "<table border=\"1\" class=\"dataframe\">\n",
       "  <thead>\n",
       "    <tr style=\"text-align: right;\">\n",
       "      <th></th>\n",
       "      <th>Merchant_id</th>\n",
       "      <th>Average Amount/transaction/day</th>\n",
       "      <th>Transaction_amount</th>\n",
       "      <th>Is declined</th>\n",
       "      <th>Total Number of declines/day</th>\n",
       "      <th>isForeignTransaction</th>\n",
       "      <th>isHighRiskCountry</th>\n",
       "      <th>Daily_chargeback_avg_amt</th>\n",
       "      <th>6_month_avg_chbk_amt</th>\n",
       "      <th>6-month_chbk_freq</th>\n",
       "      <th>isFradulent</th>\n",
       "    </tr>\n",
       "  </thead>\n",
       "  <tbody>\n",
       "    <tr>\n",
       "      <th>0</th>\n",
       "      <td>3160040998</td>\n",
       "      <td>100.0</td>\n",
       "      <td>3000.0</td>\n",
       "      <td>0</td>\n",
       "      <td>5</td>\n",
       "      <td>1</td>\n",
       "      <td>1</td>\n",
       "      <td>0</td>\n",
       "      <td>0.0</td>\n",
       "      <td>0</td>\n",
       "      <td>1</td>\n",
       "    </tr>\n",
       "    <tr>\n",
       "      <th>1</th>\n",
       "      <td>3160040998</td>\n",
       "      <td>100.0</td>\n",
       "      <td>4300.0</td>\n",
       "      <td>0</td>\n",
       "      <td>5</td>\n",
       "      <td>1</td>\n",
       "      <td>1</td>\n",
       "      <td>0</td>\n",
       "      <td>0.0</td>\n",
       "      <td>0</td>\n",
       "      <td>1</td>\n",
       "    </tr>\n",
       "    <tr>\n",
       "      <th>2</th>\n",
       "      <td>3160041896</td>\n",
       "      <td>185.5</td>\n",
       "      <td>4823.0</td>\n",
       "      <td>1</td>\n",
       "      <td>5</td>\n",
       "      <td>0</td>\n",
       "      <td>0</td>\n",
       "      <td>0</td>\n",
       "      <td>0.0</td>\n",
       "      <td>0</td>\n",
       "      <td>1</td>\n",
       "    </tr>\n",
       "    <tr>\n",
       "      <th>3</th>\n",
       "      <td>3160141996</td>\n",
       "      <td>185.5</td>\n",
       "      <td>5008.5</td>\n",
       "      <td>1</td>\n",
       "      <td>8</td>\n",
       "      <td>0</td>\n",
       "      <td>0</td>\n",
       "      <td>0</td>\n",
       "      <td>0.0</td>\n",
       "      <td>0</td>\n",
       "      <td>1</td>\n",
       "    </tr>\n",
       "    <tr>\n",
       "      <th>4</th>\n",
       "      <td>3160241992</td>\n",
       "      <td>500.0</td>\n",
       "      <td>26000.0</td>\n",
       "      <td>0</td>\n",
       "      <td>0</td>\n",
       "      <td>1</td>\n",
       "      <td>1</td>\n",
       "      <td>800</td>\n",
       "      <td>677.2</td>\n",
       "      <td>6</td>\n",
       "      <td>1</td>\n",
       "    </tr>\n",
       "  </tbody>\n",
       "</table>\n",
       "</div>"
      ],
      "text/plain": [
       "   Merchant_id  Average Amount/transaction/day  Transaction_amount  \\\n",
       "0   3160040998                           100.0              3000.0   \n",
       "1   3160040998                           100.0              4300.0   \n",
       "2   3160041896                           185.5              4823.0   \n",
       "3   3160141996                           185.5              5008.5   \n",
       "4   3160241992                           500.0             26000.0   \n",
       "\n",
       "   Is declined  Total Number of declines/day  isForeignTransaction  \\\n",
       "0            0                             5                     1   \n",
       "1            0                             5                     1   \n",
       "2            1                             5                     0   \n",
       "3            1                             8                     0   \n",
       "4            0                             0                     1   \n",
       "\n",
       "   isHighRiskCountry  Daily_chargeback_avg_amt  6_month_avg_chbk_amt  \\\n",
       "0                  1                         0                   0.0   \n",
       "1                  1                         0                   0.0   \n",
       "2                  0                         0                   0.0   \n",
       "3                  0                         0                   0.0   \n",
       "4                  1                       800                 677.2   \n",
       "\n",
       "   6-month_chbk_freq  isFradulent  \n",
       "0                  0            1  \n",
       "1                  0            1  \n",
       "2                  0            1  \n",
       "3                  0            1  \n",
       "4                  6            1  "
      ]
     },
     "execution_count": 36,
     "metadata": {},
     "output_type": "execute_result"
    }
   ],
   "source": [
    "data.drop(columns = ['Transaction date'], inplace = True)\n",
    "\n",
    "data.replace(to_replace =\"Y\", \n",
    "                 value =1, inplace = True)\n",
    "\n",
    "data.replace(to_replace =\"N\", \n",
    "                 value =0, inplace = True)\n",
    "\n",
    "data.head()"
   ]
  },
  {
   "cell_type": "code",
   "execution_count": 37,
   "metadata": {},
   "outputs": [
    {
     "name": "stdout",
     "output_type": "stream",
     "text": [
      "Train data uploaded to: s3://sagemaker-us-east-2-298841451579/fraud-DEBUG/train/train_data.csv\n",
      "Validation data uploaded to: s3://sagemaker-us-east-2-298841451579/fraud-DEBUG/val/val_data.csv\n"
     ]
    }
   ],
   "source": [
    "train_data = data.sample(frac=0.8,random_state=200)\n",
    "val_data = data.drop(train_data.index)\n",
    "\n",
    "train_file = 'train_data.csv';\n",
    "train_data.to_csv(train_file, index=False, header=True)\n",
    "train_data_s3_path = sagemaker_session.upload_data(path=train_file, key_prefix=prefix + \"/train\")\n",
    "print('Train data uploaded to: ' + train_data_s3_path)\n",
    "\n",
    "val_file = 'val_data.csv';\n",
    "val_data.to_csv(val_file, index=False, header=False)\n",
    "val_data_s3_path = sagemaker_session.upload_data(path=val_file, key_prefix=prefix + \"/val\")\n",
    "print('Validation data uploaded to: ' + val_data_s3_path)"
   ]
  },
  {
   "cell_type": "code",
   "execution_count": 7,
   "metadata": {},
   "outputs": [],
   "source": [
    "from sagemaker import get_execution_role\n",
    "\n",
    "role = get_execution_role()\n",
    "base_job_name = \"demo-smdebug-xgboost-classification\"\n",
    "bucket_path = 's3://{}'.format(bucket)\n",
    "\n",
    "hyperparameters={\n",
    "    \"max_depth\": \"100\",\n",
    "    \"eta\": \"0.95\",\n",
    "    \"gamma\": \"4\",\n",
    "    \"min_child_weight\": \"6\",\n",
    "    \"subsample\": \"0.7\",\n",
    "    \"silent\": \"0\",\n",
    "    \"objective\": \"reg:squarederror\",\n",
    "    \"num_round\": \"200\",\n",
    "}\n",
    "\n",
    "save_interval = 5\n",
    "\n",
    "base_job_name = \"demo-smdebug-xgboost-regression\""
   ]
  },
  {
   "cell_type": "code",
   "execution_count": 8,
   "metadata": {},
   "outputs": [
    {
     "data": {
      "text/plain": [
       "'s3://sagemaker-us-east-2-298841451579'"
      ]
     },
     "execution_count": 8,
     "metadata": {},
     "output_type": "execute_result"
    }
   ],
   "source": [
    "bucket_path"
   ]
  },
  {
   "cell_type": "markdown",
   "metadata": {},
   "source": [
    "### Enabling Debugger in Estimator object\n",
    "\n",
    "\n",
    "#### DebuggerHookConfig\n",
    "\n",
    "Enabling Amazon SageMaker Debugger in training job can be accomplished by adding its configuration into Estimator object constructor:\n",
    "\n",
    "```python\n",
    "from sagemaker.debugger import DebuggerHookConfig, CollectionConfig\n",
    "\n",
    "estimator = Estimator(\n",
    "    ...,\n",
    "    debugger_hook_config = DebuggerHookConfig(\n",
    "        s3_output_path=\"s3://{bucket_name}/{location_in_bucket}\",  # Required\n",
    "        collection_configs=[\n",
    "            CollectionConfig(\n",
    "                name=\"metrics\",\n",
    "                parameters={\n",
    "                    \"save_interval\": \"10\"\n",
    "                }\n",
    "            )\n",
    "        ]\n",
    "    )\n",
    ")\n",
    "```\n",
    "Here, the `DebuggerHookConfig` object instructs `Estimator` what data we are interested in.\n",
    "Two parameters are provided in the example:\n",
    "\n",
    "- `s3_output_path`: it points to S3 bucket/path where we intend to store our debugging tensors.\n",
    "  Amount of data saved depends on multiple factors, major ones are: training job / data set / model / frequency of saving tensors.\n",
    "  This bucket should be in your AWS account, and you should have full access control over it.\n",
    "  **Important Note**: this s3 bucket should be originally created in the same region where your training job will be running, otherwise you might run into problems with cross region access.\n",
    "\n",
    "- `collection_configs`: it enumerates named collections of tensors we want to save.\n",
    "  Collections are a convinient way to organize relevant tensors under same umbrella to make it easy to navigate them during analysis.\n",
    "  In this particular example, you are instructing Amazon SageMaker Debugger that you are interested in a single collection named `metrics`.\n",
    "  We also instructed Amazon SageMaker Debugger to save metrics every 10 iteration.\n",
    "  See [Collection](https://github.com/awslabs/sagemaker-debugger/blob/master/docs/api.md#collection) documentation for all parameters that are supported by Collections and DebuggerConfig documentation for more details about all parameters DebuggerConfig supports.\n",
    "  \n",
    "#### Rules\n",
    "\n",
    "Enabling Rules in training job can be accomplished by adding the `rules` configuration into Estimator object constructor.\n",
    "\n",
    "- `rules`: This new parameter will accept a list of rules you wish to evaluate against the tensors output by this training job.\n",
    "  For rules, Amazon SageMaker Debugger supports two types:\n",
    "  - SageMaker Rules: These are rules specially curated by the data science and engineering teams in Amazon SageMaker which you can opt to evaluate against your training job.\n",
    "  - Custom Rules: You can optionally choose to write your own rule as a Python source file and have it evaluated against your training job.\n",
    "    To provide Amazon SageMaker Debugger to evaluate this rule, you would have to provide the S3 location of the rule source and the evaluator image.\n",
    "\n",
    "In this example, you will use a Amazon SageMaker's LossNotDecreasing rule, which helps you identify if you are running into a situation where the training loss is not going down.\n",
    "\n",
    "```python\n",
    "from sagemaker.debugger import rule_configs, Rule\n",
    "\n",
    "estimator = Estimator(\n",
    "    ...,\n",
    "    rules=[\n",
    "        Rule.sagemaker(\n",
    "            rule_configs.loss_not_decreasing(),\n",
    "            rule_parameters={\n",
    "                \"collection_names\": \"metrics\",\n",
    "                \"num_steps\": \"10\",\n",
    "            },\n",
    "        ),\n",
    "    ],\n",
    ")\n",
    "```\n",
    "\n",
    "- `rule_parameters`: In this parameter, you provide the runtime values of the parameter in your constructor.\n",
    "  You can still choose to pass in other values which may be necessary for your rule to be evaluated.\n",
    "  In this example, you will use Amazon SageMaker's LossNotDecreasing rule to monitor the `metircs` collection.\n",
    "  The rule will alert you if the tensors in `metrics` has not decreased for more than 10 steps."
   ]
  },
  {
   "cell_type": "code",
   "execution_count": 27,
   "metadata": {},
   "outputs": [],
   "source": [
    "from sagemaker.debugger import rule_configs, Rule, DebuggerHookConfig, CollectionConfig\n",
    "\n",
    "rules = [\n",
    "    Rule.sagemaker(rule_configs.vanishing_gradient()), \n",
    "    Rule.sagemaker(rule_configs.loss_not_decreasing()),\n",
    "    Rule.sagemaker(rule_configs.tree_depth()),\n",
    "    Rule.sagemaker(rule_configs.class_imbalance())\n",
    "]"
   ]
  },
  {
   "cell_type": "code",
   "execution_count": 28,
   "metadata": {},
   "outputs": [],
   "source": [
    "from sagemaker.estimator import Estimator\n",
    "\n",
    "algorithm_mode_default_estimator = Estimator(\n",
    "    role=role,\n",
    "    base_job_name=base_job_name,\n",
    "    train_instance_count=1,\n",
    "    train_instance_type='ml.m5.large',\n",
    "    image_name=container,\n",
    "    hyperparameters=hyperparameters,\n",
    "    train_max_run=1800,\n",
    "\n",
    "    debugger_hook_config=DebuggerHookConfig(\n",
    "        s3_output_path=bucket_path,  # Required\n",
    "        collection_configs=[\n",
    "            CollectionConfig(\n",
    "                name=\"all\",\n",
    "                parameters={\n",
    "                    \"save_interval\": str(save_interval)\n",
    "                },\n",
    "           ),\n",
    "        ],\n",
    "    ),\n",
    "    rules= rules\n",
    ")"
   ]
  },
  {
   "cell_type": "markdown",
   "metadata": {},
   "source": [
    "With the next step, start a training job by using the Estimator object you created above. This job is started in an asynchronous, non-blocking way. This means that control is passed back to the notebook and further commands can be run while the training job is progressing."
   ]
  },
  {
   "cell_type": "code",
   "execution_count": 29,
   "metadata": {},
   "outputs": [],
   "source": [
    "from sagemaker.session import s3_input\n",
    "\n",
    "train_s3_input = s3_input(\"s3://sagemaker-us-east-2-298841451579/fraud-DEBUG/train/\", content_type=\"text/csv\")\n",
    "validation_s3_input = s3_input( \"s3://sagemaker-us-east-2-298841451579/fraud-DEBUG/val/\", content_type=\"text/csv\")"
   ]
  },
  {
   "cell_type": "code",
   "execution_count": 29,
   "metadata": {},
   "outputs": [],
   "source": [
    "algorithm_mode_default_estimator.fit(\n",
    "    {\"train\": train_s3_input, \"validation\": validation_s3_input},\n",
    "    # This is a fire and forget event. By setting wait=False, you just submit the job to run in the background.\n",
    "    # Amazon SageMaker starts one training job and release control to next cells in the notebook.\n",
    "    # Follow this notebook to see status of the training job.\n",
    "    wait=False\n",
    ")"
   ]
  },
  {
   "cell_type": "markdown",
   "metadata": {},
   "source": [
    "### Result\n",
    "\n",
    "As a result of the above command, Amazon SageMaker starts one training job and one rule job for you. The first one is the job that produces the tensors to be analyzed. The second one analyzes the tensors to check if `train-rmse` and `validation-rmse` are not decreasing at any point during training.\n",
    "\n",
    "Check the status of the training job below.\n",
    "After your training job is started, Amazon SageMaker starts a rule-execution job to run the LossNotDecreasing rule.\n",
    "\n",
    "**Note that the next cell blocks until the rule execution job ends. You can stop it at any point to proceed to the rest of the notebook. Once it says Rule Evaluation Status is Started, and shows the `RuleEvaluationJobArn`, you can look at the status of the rule being monitored.**"
   ]
  },
  {
   "cell_type": "code",
   "execution_count": 30,
   "metadata": {
    "scrolled": true
   },
   "outputs": [
    {
     "name": "stdout",
     "output_type": "stream",
     "text": [
      "Training job status: InProgress, Rule Evaluation Status: InProgress\n",
      "Training job status: InProgress, Rule Evaluation Status: InProgress\n",
      "Training job status: InProgress, Rule Evaluation Status: InProgress\n",
      "Training job status: InProgress, Rule Evaluation Status: InProgress\n",
      "Training job status: InProgress, Rule Evaluation Status: InProgress\n",
      "Training job status: InProgress, Rule Evaluation Status: InProgress\n",
      "Training job status: InProgress, Rule Evaluation Status: InProgress\n",
      "Training job status: InProgress, Rule Evaluation Status: InProgress\n",
      "Training job status: InProgress, Rule Evaluation Status: InProgress\n",
      "Training job status: InProgress, Rule Evaluation Status: InProgress\n",
      "Training job status: InProgress, Rule Evaluation Status: InProgress\n",
      "Training job status: InProgress, Rule Evaluation Status: InProgress\n",
      "Training job status: InProgress, Rule Evaluation Status: InProgress\n",
      "Training job status: InProgress, Rule Evaluation Status: InProgress\n",
      "Training job status: InProgress, Rule Evaluation Status: InProgress\n",
      "Training job status: InProgress, Rule Evaluation Status: InProgress\n",
      "Training job status: InProgress, Rule Evaluation Status: InProgress\n",
      "Training job status: InProgress, Rule Evaluation Status: InProgress\n",
      "Training job status: InProgress, Rule Evaluation Status: InProgress\n",
      "Training job status: InProgress, Rule Evaluation Status: InProgress\n",
      "Training job status: InProgress, Rule Evaluation Status: InProgress\n",
      "Training job status: InProgress, Rule Evaluation Status: InProgress\n",
      "Training job status: InProgress, Rule Evaluation Status: InProgress\n",
      "Training job status: InProgress, Rule Evaluation Status: InProgress\n",
      "Training job status: InProgress, Rule Evaluation Status: InProgress\n",
      "Training job status: InProgress, Rule Evaluation Status: InProgress\n",
      "Training job status: InProgress, Rule Evaluation Status: InProgress\n",
      "Training job status: InProgress, Rule Evaluation Status: InProgress\n",
      "Training job status: InProgress, Rule Evaluation Status: InProgress\n",
      "Training job status: InProgress, Rule Evaluation Status: InProgress\n",
      "Training job status: InProgress, Rule Evaluation Status: InProgress\n",
      "Training job status: InProgress, Rule Evaluation Status: InProgress\n",
      "Training job status: InProgress, Rule Evaluation Status: InProgress\n",
      "Training job status: InProgress, Rule Evaluation Status: InProgress\n",
      "Training job status: Completed, Rule Evaluation Status: InProgress\n",
      "Training job status: Completed, Rule Evaluation Status: InProgress\n",
      "Training job status: Completed, Rule Evaluation Status: InProgress\n",
      "Training job status: Completed, Rule Evaluation Status: NoIssuesFound\n"
     ]
    }
   ],
   "source": [
    "import time\n",
    "\n",
    "for _ in range(360):\n",
    "    job_name = algorithm_mode_default_estimator.latest_training_job.name\n",
    "    client = algorithm_mode_default_estimator.sagemaker_session.sagemaker_client\n",
    "    description = client.describe_training_job(TrainingJobName=job_name)\n",
    "    training_job_status = description[\"TrainingJobStatus\"]\n",
    "    rule_job_summary = algorithm_mode_default_estimator.latest_training_job.rule_job_summary()\n",
    "    rule_evaluation_status = rule_job_summary[0][\"RuleEvaluationStatus\"]\n",
    "    print(\"Training job status: {}, Rule Evaluation Status: {}\".format(training_job_status, rule_evaluation_status))\n",
    "\n",
    "    if rule_evaluation_status in [\"Stopped\", \"IssuesFound\", \"NoIssuesFound\"]:\n",
    "        break\n",
    "\n",
    "    time.sleep(10)"
   ]
  },
  {
   "cell_type": "markdown",
   "metadata": {},
   "source": [
    "### Check the status of the Rule Evaluation Job\n",
    "\n",
    "To get the rule evaluation job that Amazon SageMaker started for you, run the command below. The results show you the `RuleConfigurationName`, `RuleEvaluationJobArn`, `RuleEvaluationStatus`, `StatusDetails`, and `RuleEvaluationJobArn`.\n",
    "If the tensors meets a rule evaluation condition, the rule execution job throws a client error with `RuleEvaluationConditionMet`.\n",
    "\n",
    "The logs of the rule evaluation job are available in the Cloudwatch Logstream `/aws/sagemaker/ProcessingJobs` with `RuleEvaluationJobArn`.\n",
    "\n",
    "You can see that once the rule execution job starts, it identifies the loss not decreasing situation in the training job, it raises the `RuleEvaluationConditionMet` exception, and it ends the job."
   ]
  },
  {
   "cell_type": "code",
   "execution_count": 31,
   "metadata": {},
   "outputs": [
    {
     "data": {
      "text/plain": [
       "[{'RuleConfigurationName': 'VanishingGradient',\n",
       "  'RuleEvaluationJobArn': 'arn:aws:sagemaker:us-east-2:298841451579:processing-job/demo-smdebug-xgboost-regre-vanishinggradient-063977f6',\n",
       "  'RuleEvaluationStatus': 'NoIssuesFound',\n",
       "  'LastModifiedTime': datetime.datetime(2020, 2, 11, 13, 5, 32, 132000, tzinfo=tzlocal())},\n",
       " {'RuleConfigurationName': 'LossNotDecreasing',\n",
       "  'RuleEvaluationJobArn': 'arn:aws:sagemaker:us-east-2:298841451579:processing-job/demo-smdebug-xgboost-regre-lossnotdecreasing-f1a0f33f',\n",
       "  'RuleEvaluationStatus': 'NoIssuesFound',\n",
       "  'LastModifiedTime': datetime.datetime(2020, 2, 11, 13, 5, 32, 132000, tzinfo=tzlocal())},\n",
       " {'RuleConfigurationName': 'TreeDepth',\n",
       "  'RuleEvaluationJobArn': 'arn:aws:sagemaker:us-east-2:298841451579:processing-job/demo-smdebug-xgboost-regre-treedepth-50c23311',\n",
       "  'RuleEvaluationStatus': 'IssuesFound',\n",
       "  'StatusDetails': 'RuleEvaluationConditionMet: Evaluation of the rule TreeDepth at step 0 resulted in the condition being met\\n',\n",
       "  'LastModifiedTime': datetime.datetime(2020, 2, 11, 13, 5, 32, 132000, tzinfo=tzlocal())},\n",
       " {'RuleConfigurationName': 'ClassImbalance',\n",
       "  'RuleEvaluationJobArn': 'arn:aws:sagemaker:us-east-2:298841451579:processing-job/demo-smdebug-xgboost-regre-classimbalance-fa2a7acc',\n",
       "  'RuleEvaluationStatus': 'IssuesFound',\n",
       "  'StatusDetails': 'RuleEvaluationConditionMet: Evaluation of the rule ClassImbalance at step 0 resulted in the condition being met\\n',\n",
       "  'LastModifiedTime': datetime.datetime(2020, 2, 11, 13, 5, 32, 132000, tzinfo=tzlocal())}]"
      ]
     },
     "execution_count": 31,
     "metadata": {},
     "output_type": "execute_result"
    }
   ],
   "source": [
    "algorithm_mode_default_estimator.latest_training_job.rule_job_summary()"
   ]
  },
  {
   "cell_type": "markdown",
   "metadata": {},
   "source": [
    "## Checking Class Imbalance"
   ]
  },
  {
   "cell_type": "code",
   "execution_count": 38,
   "metadata": {},
   "outputs": [
    {
     "data": {
      "text/plain": [
       "N    2627\n",
       "Y     448\n",
       "Name: isFradulent, dtype: int64"
      ]
     },
     "execution_count": 38,
     "metadata": {},
     "output_type": "execute_result"
    }
   ],
   "source": [
    "data = pd.read_csv(local_data_path, sep=',')\n",
    "data.isFradulent.value_counts()"
   ]
  },
  {
   "cell_type": "markdown",
   "metadata": {},
   "source": [
    "## Making this a good run\n",
    "\n",
    "In previous example, you saw how a LossNotDecreasing rule was run that analyzed the tensors when training was running and produced an alert.\n",
    "\n",
    "You can go back and change the hyperparameters passed to the estimator to `hyperparameters` and start a new training job (e.g., use a smaller learning rate `eta=0.05`). You can see that the LossNotDecreasing rule is not fired in that case as both `train-rmse` and `validation-rmse` keep decreasing steadily throughout the entire training duration."
   ]
  },
  {
   "cell_type": "markdown",
   "metadata": {},
   "source": [
    "## Data Analysis - Manual\n",
    "\n",
    "Now that you've trained the system, analyze the data.\n",
    "Here, you focus on after-the-fact analysis.\n",
    "\n",
    "You import a basic analysis library, which defines the concept of trial, which represents a single training run."
   ]
  },
  {
   "cell_type": "code",
   "execution_count": 14,
   "metadata": {},
   "outputs": [
    {
     "name": "stdout",
     "output_type": "stream",
     "text": [
      "[2020-02-11 12:54:32.957 e501f59257c0:215 INFO s3_trial.py:42] Loading trial debug-output at path s3://sagemaker-us-east-2-298841451579/demo-smdebug-xgboost-regression-2020-02-11-12-36-51-778/debug-output\n"
     ]
    }
   ],
   "source": [
    "from smdebug.trials import create_trial\n",
    "\n",
    "s3_output_path = algorithm_mode_default_estimator.latest_job_debugger_artifacts_path()\n",
    "trial = create_trial(s3_output_path)"
   ]
  },
  {
   "cell_type": "markdown",
   "metadata": {},
   "source": [
    "You can list all the tensors that you know something about. Each one of these names is the name of a tensor. The name is a combination of the feature name, which in these cases, is auto-assigned by XGBoost, and whether it's an evaluation metric, feature importance, or SHAP value."
   ]
  },
  {
   "cell_type": "code",
   "execution_count": 15,
   "metadata": {},
   "outputs": [
    {
     "name": "stdout",
     "output_type": "stream",
     "text": [
      "[2020-02-11 12:54:40.389 e501f59257c0:215 INFO trial.py:197] Training has ended, will refresh one final time in 1 sec.\n",
      "[2020-02-11 12:54:41.409 e501f59257c0:215 INFO trial.py:209] Loaded all steps\n"
     ]
    },
    {
     "data": {
      "text/plain": [
       "['average_shap/f0',\n",
       " 'average_shap/f1',\n",
       " 'average_shap/f2',\n",
       " 'average_shap/f3',\n",
       " 'average_shap/f4',\n",
       " 'average_shap/f5',\n",
       " 'average_shap/f6',\n",
       " 'average_shap/f7',\n",
       " 'average_shap/f8',\n",
       " 'average_shap/f9',\n",
       " 'feature_importance/cover/f0',\n",
       " 'feature_importance/cover/f1',\n",
       " 'feature_importance/cover/f2',\n",
       " 'feature_importance/cover/f3',\n",
       " 'feature_importance/cover/f4',\n",
       " 'feature_importance/cover/f5',\n",
       " 'feature_importance/cover/f6',\n",
       " 'feature_importance/cover/f7',\n",
       " 'feature_importance/cover/f8',\n",
       " 'feature_importance/cover/f9',\n",
       " 'feature_importance/gain/f0',\n",
       " 'feature_importance/gain/f1',\n",
       " 'feature_importance/gain/f2',\n",
       " 'feature_importance/gain/f3',\n",
       " 'feature_importance/gain/f4',\n",
       " 'feature_importance/gain/f5',\n",
       " 'feature_importance/gain/f6',\n",
       " 'feature_importance/gain/f7',\n",
       " 'feature_importance/gain/f8',\n",
       " 'feature_importance/gain/f9',\n",
       " 'feature_importance/total_cover/f0',\n",
       " 'feature_importance/total_cover/f1',\n",
       " 'feature_importance/total_cover/f2',\n",
       " 'feature_importance/total_cover/f3',\n",
       " 'feature_importance/total_cover/f4',\n",
       " 'feature_importance/total_cover/f5',\n",
       " 'feature_importance/total_cover/f6',\n",
       " 'feature_importance/total_cover/f7',\n",
       " 'feature_importance/total_cover/f8',\n",
       " 'feature_importance/total_cover/f9',\n",
       " 'feature_importance/total_gain/f0',\n",
       " 'feature_importance/total_gain/f1',\n",
       " 'feature_importance/total_gain/f2',\n",
       " 'feature_importance/total_gain/f3',\n",
       " 'feature_importance/total_gain/f4',\n",
       " 'feature_importance/total_gain/f5',\n",
       " 'feature_importance/total_gain/f6',\n",
       " 'feature_importance/total_gain/f7',\n",
       " 'feature_importance/total_gain/f8',\n",
       " 'feature_importance/total_gain/f9',\n",
       " 'feature_importance/weight/f0',\n",
       " 'feature_importance/weight/f1',\n",
       " 'feature_importance/weight/f2',\n",
       " 'feature_importance/weight/f3',\n",
       " 'feature_importance/weight/f4',\n",
       " 'feature_importance/weight/f5',\n",
       " 'feature_importance/weight/f6',\n",
       " 'feature_importance/weight/f7',\n",
       " 'feature_importance/weight/f8',\n",
       " 'feature_importance/weight/f9',\n",
       " 'full_shap/f0',\n",
       " 'full_shap/f1',\n",
       " 'full_shap/f2',\n",
       " 'full_shap/f3',\n",
       " 'full_shap/f4',\n",
       " 'full_shap/f5',\n",
       " 'full_shap/f6',\n",
       " 'full_shap/f7',\n",
       " 'full_shap/f8',\n",
       " 'full_shap/f9',\n",
       " 'hyperparameters/eta',\n",
       " 'hyperparameters/gamma',\n",
       " 'hyperparameters/max_depth',\n",
       " 'hyperparameters/min_child_weight',\n",
       " 'hyperparameters/num_round',\n",
       " 'hyperparameters/objective',\n",
       " 'hyperparameters/silent',\n",
       " 'hyperparameters/subsample',\n",
       " 'labels',\n",
       " 'predictions',\n",
       " 'train-rmse',\n",
       " 'trees/Cover',\n",
       " 'trees/Feature',\n",
       " 'trees/Gain',\n",
       " 'trees/ID',\n",
       " 'trees/Missing',\n",
       " 'trees/No',\n",
       " 'trees/Node',\n",
       " 'trees/Split',\n",
       " 'trees/Tree',\n",
       " 'trees/Yes',\n",
       " 'validation-rmse']"
      ]
     },
     "execution_count": 15,
     "metadata": {},
     "output_type": "execute_result"
    }
   ],
   "source": [
    "trial.tensor_names()"
   ]
  },
  {
   "cell_type": "markdown",
   "metadata": {},
   "source": [
    "For each tensor, ask for the steps where you have data. In this case, every five steps"
   ]
  },
  {
   "cell_type": "markdown",
   "metadata": {
    "jupyter": {
     "source_hidden": true
    }
   },
   "source": [
    "### Performance metrics\n",
    "\n",
    "You can also create a simple function that visualizes the training and validation errors as the training progresses.\n",
    "Each gradient should get smaller over time, as the system converges to a good solution.\n",
    "Remember that this is an interactive analysis. You are showing these tensors to give an idea of the data."
   ]
  },
  {
   "cell_type": "markdown",
   "metadata": {},
   "source": [
    "### Feature importances\n",
    "\n",
    "You can also visualize the feature priorities as determined by\n",
    "[xgboost.get_score()](https://xgboost.readthedocs.io/en/latest/python/python_api.html#xgboost.Booster.get_score).\n",
    "If you instructed Estimator to log the `feature_importance` collection, all five importance types supported by `xgboost.get_score()` will be available in the collection."
   ]
  },
  {
   "cell_type": "code",
   "execution_count": 23,
   "metadata": {},
   "outputs": [],
   "source": [
    "def plot_feature_importance(trial, importance_type=\"weight\"):\n",
    "    SUPPORTED_IMPORTANCE_TYPES = [\"weight\", \"gain\", \"cover\", \"total_gain\", \"total_cover\"]\n",
    "    if importance_type not in SUPPORTED_IMPORTANCE_TYPES:\n",
    "        raise ValueError(f\"{importance_type} is not one of the supported importance types.\")\n",
    "    plot_collection(\n",
    "        trial,\n",
    "        \"feature_importance\",\n",
    "        regex=f\"feature_importance/{importance_type}/.*\")"
   ]
  },
  {
   "cell_type": "code",
   "execution_count": 25,
   "metadata": {},
   "outputs": [
    {
     "data": {
      "image/png": "[encoded data removed]",
      "text/plain": [
       "<Figure size 576x432 with 1 Axes>"
      ]
     },
     "metadata": {
      "needs_background": "light"
     },
     "output_type": "display_data"
    }
   ],
   "source": [
    "plot_feature_importance(trial, importance_type=\"cover\")"
   ]
  },
  {
   "cell_type": "markdown",
   "metadata": {},
   "source": [
    "### SHAP\n",
    "\n",
    "[SHAP](https://github.com/slundberg/shap) (SHapley Additive exPlanations) is\n",
    "another approach to explain the output of machine learning models.\n",
    "SHAP values represent a feature's contribution to a change in the model output.\n",
    "You instructed Estimator to log the average SHAP values in this example so the SHAP values (as calculaged by [xgboost.predict(pred_contribs=True)](https://xgboost.readthedocs.io/en/latest/python/python_api.html#xgboost.Booster.predict)) will be available the `average_shap` collection."
   ]
  },
  {
   "cell_type": "code",
   "execution_count": 39,
   "metadata": {},
   "outputs": [
    {
     "data": {
      "image/png": "[encoded data removed]",
      "text/plain": [
       "<Figure size 576x432 with 1 Axes>"
      ]
     },
     "metadata": {
      "needs_background": "light"
     },
     "output_type": "display_data"
    }
   ],
   "source": [
    "plot_collection(trial,\"average_shap\")"
   ]
  }
 ],
 "metadata": {
  "kernelspec": {
   "display_name": "Python 3 (Base Python)",
   "language": "python",
   "name": "python3__SAGEMAKER_INTERNAL__arn:aws:sagemaker:us-east-2:429704687514:environment/base-python"
  },
  "language_info": {
   "codemirror_mode": {
    "name": "ipython",
    "version": 3
   },
   "file_extension": ".py",
   "mimetype": "text/x-python",
   "name": "python",
   "nbconvert_exporter": "python",
   "pygments_lexer": "ipython3",
   "version": "3.6.9"
  }
 },
 "nbformat": 4,
 "nbformat_minor": 4
}
